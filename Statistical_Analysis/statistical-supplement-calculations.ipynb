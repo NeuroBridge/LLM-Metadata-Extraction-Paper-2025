{
 "cells": [
  {
   "cell_type": "markdown",
   "id": "cc516f39",
   "metadata": {},
   "source": [
    "# Supplemental Statistical Analysis\n",
    "This Jupyter notebook provides the code for the statistical analyses presented in the supplemental materials to our paper.\n",
    "\n",
    "### McNemar's Test\n",
    "The code for McNemar's test is based on the examples given in the documentation for the Python library used, [Mlxtend (machine learning extensions)](https://rasbt.github.io/mlxtend/). Specifically, [this page](https://rasbt.github.io/mlxtend/user_guide/evaluate/mcnemar/#mcnemar-mcnemars-test-for-classifier-comparisons) explaining the use of the McNemar's test.\n",
    "\n",
    "### _z_-Test for Proportions\n",
    "The code for the _z_-test is from the library [statsmodels](https://www.statsmodels.org/dev/index.html) and the code is based on the examples in their documentation, located [here](https://www.statsmodels.org/dev/generated/statsmodels.stats.proportion.proportions_ztest.html).\n",
    "\n",
    "## Setup"
   ]
  },
  {
   "cell_type": "code",
   "execution_count": 1,
   "id": "ad71648b",
   "metadata": {},
   "outputs": [],
   "source": [
    "from mlxtend.evaluate import mcnemar\n",
    "import numpy as np\n",
    "from statsmodels.stats.proportion import proportions_ztest"
   ]
  },
  {
   "cell_type": "markdown",
   "id": "176a397d",
   "metadata": {},
   "source": [
    "## Task 2 - Structural MRI Parameters\n",
    "\n",
    "### Graduate Student Annotations\n",
    "Analysis for table S1 in the supplemental materials."
   ]
  },
  {
   "cell_type": "code",
   "execution_count": 2,
   "id": "2b253438",
   "metadata": {},
   "outputs": [
    {
     "name": "stdout",
     "output_type": "stream",
     "text": [
      "p-value: 0.5846647117286922\n"
     ]
    }
   ],
   "source": [
    "tb_s1 = np.array([[360, 13], \n",
    "                    [17, 6]])\n",
    "\n",
    "_, p = mcnemar(ary=tb_s1, exact=True)\n",
    "\n",
    "print('p-value:', p)"
   ]
  },
  {
   "cell_type": "markdown",
   "id": "e0ab0830",
   "metadata": {},
   "source": [
    "### Additional Annotations\n",
    "Analysis for table S2 in the supplemental materials. "
   ]
  },
  {
   "cell_type": "code",
   "execution_count": 3,
   "id": "48d623c2",
   "metadata": {},
   "outputs": [
    {
     "name": "stdout",
     "output_type": "stream",
     "text": [
      "p-value: 0.0703125\n"
     ]
    }
   ],
   "source": [
    "tb_s2 = np.array([[124, 1], \n",
    "                    [7, 0]])\n",
    "\n",
    "_, p = mcnemar(ary=tb_s2, exact=True)\n",
    "\n",
    "print('p-value:', p)"
   ]
  },
  {
   "cell_type": "markdown",
   "id": "90be14f9",
   "metadata": {},
   "source": [
    "## Task 3 - Experimental Group Information\n",
    "This is the analysis for table S3 in the supplemental materials."
   ]
  },
  {
   "cell_type": "code",
   "execution_count": 4,
   "id": "a76a768d",
   "metadata": {},
   "outputs": [
    {
     "name": "stdout",
     "output_type": "stream",
     "text": [
      "p-value: 0.0009765625\n"
     ]
    }
   ],
   "source": [
    "tb_s3 = np.array([[109, 11],\n",
    "                 [0, 0]])\n",
    "\n",
    "_, p = mcnemar(ary=tb_s3, exact=True)\n",
    "\n",
    "print('p-value:', p)"
   ]
  },
  {
   "cell_type": "markdown",
   "id": "8d8b208b",
   "metadata": {},
   "source": [
    "Analysis for the independent groups analysis (based on the code from [here](https://www.statsmodels.org/dev/generated/statsmodels.stats.proportion.proportions_ztest.html))."
   ]
  },
  {
   "cell_type": "code",
   "execution_count": 5,
   "id": "3e7710fb",
   "metadata": {},
   "outputs": [
    {
     "name": "stdout",
     "output_type": "stream",
     "text": [
      "Phuman = 0.6667 Pllm = 0.8667\n"
     ]
    }
   ],
   "source": [
    "phuman = 26/39.0\n",
    "pllm   = 26/30.0\n",
    "\n",
    "print('Phuman = {0:2.4f} Pllm = {1:2.4f}'.format(phuman, pllm))"
   ]
  },
  {
   "cell_type": "code",
   "execution_count": 6,
   "id": "5476e724",
   "metadata": {},
   "outputs": [
    {
     "name": "stdout",
     "output_type": "stream",
     "text": [
      "1.911 p = 0.0560\n"
     ]
    }
   ],
   "source": [
    "count = np.array([26, 26])\n",
    "nobs  = np.array([30, 39])\n",
    "stat, pval = proportions_ztest(count, nobs)\n",
    "\n",
    "print('{0:1.3f} p = {1:0.4f}'.format(stat, pval))"
   ]
  }
 ],
 "metadata": {
  "kernelspec": {
   "display_name": "llmdev",
   "language": "python",
   "name": "python3"
  },
  "language_info": {
   "codemirror_mode": {
    "name": "ipython",
    "version": 3
   },
   "file_extension": ".py",
   "mimetype": "text/x-python",
   "name": "python",
   "nbconvert_exporter": "python",
   "pygments_lexer": "ipython3",
   "version": "3.11.9"
  }
 },
 "nbformat": 4,
 "nbformat_minor": 5
}
