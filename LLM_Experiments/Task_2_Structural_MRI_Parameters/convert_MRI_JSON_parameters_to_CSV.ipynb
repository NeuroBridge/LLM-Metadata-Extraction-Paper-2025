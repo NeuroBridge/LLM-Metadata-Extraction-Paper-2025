{
 "cells": [
  {
   "cell_type": "markdown",
   "metadata": {},
   "source": [
    "# Conversion of LLM JSON files to CSV\n",
    "This file contains the code to convert the individual JSON responses from the LLM to a single CSV of all of the labels.\n",
    "\n",
    "This is **step 2** for obtaining and analyzing the LLM produced annotations:\n",
    "\n",
    "1. The notebook `run_T1_MRI_Parameters_GPT-4o.ipynb` accesses the OpenAI API and saves the JSON responses from the LLM.\n",
    "2. `convert_MRI_JSON_parameters_to_CSV.ipynb` (this notebook) converts the JSON files from the LLM to a single CSV.\n",
    "\n",
    "## Setup & Housekeeping"
   ]
  },
  {
   "cell_type": "code",
   "execution_count": null,
   "metadata": {},
   "outputs": [],
   "source": [
    "import os\n",
    "import json\n",
    "import pandas as pd\n",
    "from dotenv import load_dotenv, find_dotenv\n",
    "import numpy as np"
   ]
  },
  {
   "cell_type": "code",
   "execution_count": null,
   "metadata": {},
   "outputs": [],
   "source": [
    "dotenvfile = find_dotenv()\n",
    "load_dotenv(dotenvfile)      # Apparently no issues if null\n",
    "\n",
    "if dotenvfile == '':\n",
    "    print(\"No dotenv file.\") # Also acceptable to use other environment variables\n",
    "\n",
    "ROOT_DIR = os.getenv('ROOT_DIR')\n",
    "print(\"ROOT_DIR set to: \" + ROOT_DIR)\n",
    "\n",
    "directory = ROOT_DIR + \"/LLM_Experiments/Task_2_Structural_MRI_Parameters/Results/Inner_JSON/OpenAI/GPT-4o/\"\n",
    "print(directory)"
   ]
  },
  {
   "cell_type": "markdown",
   "metadata": {},
   "source": [
    "### Collect the files with the LLM responses"
   ]
  },
  {
   "cell_type": "code",
   "execution_count": null,
   "metadata": {},
   "outputs": [],
   "source": [
    "files = os.listdir(directory)\n",
    "files = [os.path.join(directory, f) for f in files if os.path.isfile(os.path.join(directory, f))]\n",
    "\n",
    "print(len(files))"
   ]
  },
  {
   "cell_type": "code",
   "execution_count": null,
   "metadata": {},
   "outputs": [],
   "source": [
    "def process_json_file(file_path):\n",
    "    identifier = os.path.splitext(os.path.basename(file_path))[0].split(\"_\")[0]\n",
    "    with open(file_path, 'r') as f:\n",
    "        data = json.load(f)\n",
    "        \n",
    "        # Helper function to handle missing values (JSON null -> NaN)\n",
    "        def get_value(d, key):\n",
    "            return d.get(key) if d.get(key) is not None else np.nan\n",
    "        \n",
    "        # Extract the data based on the prototype JSON structure\n",
    "        row = {\n",
    "            \"pmcid\": identifier,\n",
    "            \"T\": get_value(data[\"T\"], \"value\"),\n",
    "            \"TR\": get_value(data[\"TR\"], \"value\"),\n",
    "            \"TE\": get_value(data[\"TE\"], \"value\"),\n",
    "            \"inversion_time\": get_value(data[\"TI\"], \"value\"),\n",
    "            \"flip_angle\": get_value(data[\"flip_angle\"], \"value\"),\n",
    "            \"FOV_x\": get_value(data[\"FOV\"][\"value\"], \"x\"),\n",
    "            \"FOV_y\": get_value(data[\"FOV\"][\"value\"], \"y\"),\n",
    "            \"FOV_z\": get_value(data[\"FOV\"][\"value\"], \"z\"),\n",
    "            \"voxel_size_x\": get_value(data[\"voxel_size\"][\"value\"], \"x\"),\n",
    "            \"voxel_size_y\": get_value(data[\"voxel_size\"][\"value\"], \"y\"),\n",
    "            \"voxel_size_z\": get_value(data[\"voxel_size\"][\"value\"], \"z\"),\n",
    "            \"matrix_x\": get_value(data[\"matrix_size\"][\"value\"], \"x\"),\n",
    "            \"matrix_y\": get_value(data[\"matrix_size\"][\"value\"], \"y\"),\n",
    "            \"matrix_z\": get_value(data[\"matrix_size\"][\"value\"], \"z\"),\n",
    "            \"slice_thickness\": get_value(data[\"slice_thickness\"], \"value\"),\n",
    "            \"acquisition_time\": get_value(data[\"acquisition_time\"], \"value\"),\n",
    "            \"number_of_slices\": get_value(data[\"number_of_slices\"], \"value\"),\n",
    "            \"image_orientation\": get_value(data[\"image_orientation\"], \"value\")\n",
    "        }\n",
    "        \n",
    "        return row\n"
   ]
  },
  {
   "cell_type": "code",
   "execution_count": null,
   "metadata": {},
   "outputs": [],
   "source": [
    "def load_json_files_to_dataframe(files):\n",
    "    data_rows = []\n",
    "\n",
    "    # Loop through all files in the directory\n",
    "    for filename in files:\n",
    "        row = process_json_file(filename)\n",
    "        data_rows.append(row)\n",
    "\n",
    "    # Convert list of dictionaries to DataFrame\n",
    "    df = pd.DataFrame(data_rows)\n",
    "    return df"
   ]
  },
  {
   "cell_type": "code",
   "execution_count": null,
   "metadata": {},
   "outputs": [],
   "source": [
    "def save_dataframe_to_csv(df, output_csv_file):\n",
    "    df.to_csv(output_csv_file, index=False)"
   ]
  },
  {
   "cell_type": "code",
   "execution_count": null,
   "metadata": {},
   "outputs": [],
   "source": [
    "x = load_json_files_to_dataframe(files)"
   ]
  },
  {
   "cell_type": "code",
   "execution_count": null,
   "metadata": {},
   "outputs": [],
   "source": [
    "x.head()"
   ]
  },
  {
   "cell_type": "code",
   "execution_count": null,
   "metadata": {},
   "outputs": [],
   "source": [
    "save_dataframe_to_csv(x, 'llm_mri_parameters.csv')"
   ]
  }
 ],
 "metadata": {
  "kernelspec": {
   "display_name": "llmdev",
   "language": "python",
   "name": "python3"
  },
  "language_info": {
   "codemirror_mode": {
    "name": "ipython",
    "version": 3
   },
   "file_extension": ".py",
   "mimetype": "text/x-python",
   "name": "python",
   "nbconvert_exporter": "python",
   "pygments_lexer": "ipython3",
   "version": "3.11.9"
  }
 },
 "nbformat": 4,
 "nbformat_minor": 2
}
