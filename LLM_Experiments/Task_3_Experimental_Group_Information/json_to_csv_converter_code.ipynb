{
 "cells": [
  {
   "cell_type": "markdown",
   "metadata": {},
   "source": [
    "# Analysis Code for Task 3"
   ]
  },
  {
   "cell_type": "code",
   "execution_count": null,
   "metadata": {},
   "outputs": [],
   "source": [
    "import os\n",
    "import json\n",
    "import pandas as pd\n",
    "from dotenv import load_dotenv, find_dotenv"
   ]
  },
  {
   "cell_type": "code",
   "execution_count": null,
   "metadata": {},
   "outputs": [],
   "source": [
    "dotenvfile = find_dotenv()\n",
    "load_dotenv(dotenvfile)      # Apparently no issues if null\n",
    "\n",
    "if dotenvfile == '':\n",
    "    print(\"No dotenv file.\")\n",
    "\n",
    "ROOT_DIR       = os.getenv('ROOT_DIR')\n",
    "print(\"ROOT_DIR set to: \" + ROOT_DIR)"
   ]
  },
  {
   "cell_type": "code",
   "execution_count": null,
   "metadata": {},
   "outputs": [],
   "source": [
    "JSON_dir = ROOT_DIR + '/LLM_Experiments/Task_3_Experimental_Group_Information/Results/Inner_JSON/OpenAI/GPT-4o/'\n",
    "JSON_dir"
   ]
  },
  {
   "cell_type": "code",
   "execution_count": null,
   "metadata": {},
   "outputs": [],
   "source": [
    "l = os.listdir(JSON_dir)\n",
    "l = [x for x in l if x.endswith('.json')]\n",
    "l = [JSON_dir + x for x in l]\n",
    "len(l)"
   ]
  },
  {
   "cell_type": "markdown",
   "metadata": {},
   "source": [
    "The following function converts the JSON data from the LLM into a CSV."
   ]
  },
  {
   "cell_type": "code",
   "execution_count": null,
   "metadata": {},
   "outputs": [],
   "source": [
    "def parse_json_files_to_csv(json_files, output_csv):\n",
    "    data = []\n",
    "    for json_file in json_files:\n",
    "        # Extract PMC ID from the filename\n",
    "        pmc_id = os.path.basename(json_file).split('_')[0]\n",
    "        \n",
    "        # Load JSON data\n",
    "        with open(json_file, 'r') as file:\n",
    "            json_data = json.load(file)\n",
    "        \n",
    "        # Extract subject group information\n",
    "        subject_groups = json_data.get(\"SubjectGroups\", [])\n",
    "        \n",
    "        # Prepare dictionary to match CSV structure\n",
    "        row = {\n",
    "            \"pmid\": pmc_id,\n",
    "            \"g1_disease\": subject_groups[0].get(\"cv_term\") if len(subject_groups) > 0 else None,\n",
    "            \"g1_count\": subject_groups[0].get(\"number\") if len(subject_groups) > 0 else None,\n",
    "            \"g2_disease\": subject_groups[1].get(\"cv_term\") if len(subject_groups) > 1 else None,\n",
    "            \"g2_count\": subject_groups[1].get(\"number\") if len(subject_groups) > 1 else None,\n",
    "        }\n",
    "        \n",
    "        # Append row to data list\n",
    "        data.append(row)\n",
    "    \n",
    "    # Create DataFrame and save to CSV\n",
    "    df = pd.DataFrame(data)\n",
    "    df.to_csv(output_csv, index=False)\n",
    "    return df"
   ]
  },
  {
   "cell_type": "code",
   "execution_count": null,
   "metadata": {},
   "outputs": [],
   "source": [
    "parse_json_files_to_csv(l, \"flat_json.csv\")"
   ]
  },
  {
   "cell_type": "markdown",
   "metadata": {},
   "source": [
    "EOF"
   ]
  }
 ],
 "metadata": {
  "kernelspec": {
   "display_name": "llmdev",
   "language": "python",
   "name": "python3"
  },
  "language_info": {
   "codemirror_mode": {
    "name": "ipython",
    "version": 3
   },
   "file_extension": ".py",
   "mimetype": "text/x-python",
   "name": "python",
   "nbconvert_exporter": "python",
   "pygments_lexer": "ipython3",
   "version": "3.11.9"
  }
 },
 "nbformat": 4,
 "nbformat_minor": 2
}
